{
 "cells": [
  {
   "cell_type": "code",
   "execution_count": 23,
   "metadata": {},
   "outputs": [],
   "source": [
    "import random\n",
    "random_numbers =[] \n",
    "random_numbers = random.sample(range(100), 10)\n"
   ]
  },
  {
   "cell_type": "code",
   "execution_count": 47,
   "metadata": {},
   "outputs": [
    {
     "data": {
      "text/plain": [
       "[4, 9, 11, 18, 36, 39, 50, 57, 61, 88]"
      ]
     },
     "execution_count": 47,
     "metadata": {},
     "output_type": "execute_result"
    }
   ],
   "source": [
    "random_numbers"
   ]
  },
  {
   "cell_type": "code",
   "execution_count": 103,
   "metadata": {},
   "outputs": [],
   "source": [
    "random_numbers.sort()\n",
    "def binary_search(list_numbers, number ):\n",
    "    min_value = 0\n",
    "    max_value = len(list_numbers)\n",
    "    a = len(list_numbers) // 2\n",
    "    middle = int(a)\n",
    "    list_new = []\n",
    "    if(list_numbers[middle] == number ):\n",
    "        return list_new , value\n",
    "\n",
    "    elif(list_numbers[middle] < number):\n",
    "        list_new = binary_search(list_numbers[middle:max_value], number)\n",
    "    \n",
    "    elif (list_numbers[middle] > number):    \n",
    "        list_new =  binary_search(list_numbers[min_value:middle], number)\n",
    "    "
   ]
  },
  {
   "cell_type": "code",
   "execution_count": 104,
   "metadata": {},
   "outputs": [
    {
     "name": "stdout",
     "output_type": "stream",
     "text": [
      "None\n"
     ]
    }
   ],
   "source": [
    "search = binary_search(random_numbers,57)\n",
    "print(search)"
   ]
  },
  {
   "cell_type": "code",
   "execution_count": null,
   "metadata": {},
   "outputs": [],
   "source": []
  }
 ],
 "metadata": {
  "kernelspec": {
   "display_name": "Python 3",
   "language": "python",
   "name": "python3"
  },
  "language_info": {
   "codemirror_mode": {
    "name": "ipython",
    "version": 3
   },
   "file_extension": ".py",
   "mimetype": "text/x-python",
   "name": "python",
   "nbconvert_exporter": "python",
   "pygments_lexer": "ipython3",
   "version": "3.5.2"
  }
 },
 "nbformat": 4,
 "nbformat_minor": 2
}
