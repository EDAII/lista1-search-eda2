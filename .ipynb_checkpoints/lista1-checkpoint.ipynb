{
 "cells": [
  {
   "cell_type": "code",
   "execution_count": 133,
   "metadata": {},
   "outputs": [],
   "source": [
    "import time, random"
   ]
  },
  {
   "cell_type": "markdown",
   "metadata": {},
   "source": [
    "## Binary Search"
   ]
  },
  {
   "cell_type": "code",
   "execution_count": 134,
   "metadata": {},
   "outputs": [],
   "source": [
    "def binary_search(number_list, number):\n",
    "    min_value = 0\n",
    "    max_value = len(number_list) \n",
    "\n",
    "    while min_value <= max_value:\n",
    "        i = (min_value + max_value) // 2\n",
    "        middle = int(i)\n",
    "        if number_list[middle] == number:\n",
    "            return True\n",
    "        elif number_list[middle] > number:\n",
    "            max_value = middle - 1\n",
    "        elif number_list[middle] < number:\n",
    "            min_value = middle + 1\n",
    "        else:\n",
    "            return False\n"
   ]
  },
  {
   "cell_type": "markdown",
   "metadata": {},
   "source": [
    "## Sequential Search"
   ]
  },
  {
   "cell_type": "code",
   "execution_count": 135,
   "metadata": {},
   "outputs": [],
   "source": [
    "def sequential_search_with_sentinel(number_list, key):\n",
    "    number_list.append(key)\n",
    "    index = 0\n",
    "\n",
    "    while number_list[index] != key:\n",
    "        index += 1\n",
    "    number_list.pop()\n",
    "\n",
    "    if index == len(number_list)-1:\n",
    "        return -1 \n",
    "\n",
    "    return index\n",
    "    "
   ]
  },
  {
   "cell_type": "markdown",
   "metadata": {},
   "source": [
    "## Interpolation Search"
   ]
  },
  {
   "cell_type": "code",
   "execution_count": 136,
   "metadata": {},
   "outputs": [],
   "source": [
    "def interpolation_search(number_list, key):\n",
    "    min_value = 0\n",
    "    max_value = len(number_list) - 1\n",
    "    \n",
    "    while number_list[min_value] <= key and number_list[max_value] >= key:\n",
    "        aux = (min_value + (max_value - min_value) * (key - number_list[min_value]) // (number_list[max_value] - number_list[min_value]))\n",
    "        middle = int(aux)\n",
    "        if number_list[middle] == key:\n",
    "            return middle\n",
    "        elif number_list[middle] > key:\n",
    "            max_value = middle - 1\n",
    "        elif number_list[middle] < key:\n",
    "            min_value = middle + 1\n",
    "        else:\n",
    "            return False"
   ]
  },
  {
   "cell_type": "markdown",
   "metadata": {},
   "source": [
    "## Create values amound of values and get time for execute the algorithm"
   ]
  },
  {
   "cell_type": "code",
   "execution_count": 137,
   "metadata": {},
   "outputs": [],
   "source": [
    "interation1 = []\n",
    "time_for_execution1 = []\n",
    "value = 100\n",
    "## Binary Search\n",
    "for a in range(5):\n",
    "    random_numbers = random.sample(range(100000000), value)\n",
    "    random_numbers.sort()\n",
    "    start = time.time()\n",
    "    random_number = random.randint(1,100000000)\n",
    "    c= binary_search(random_numbers,random_number)\n",
    "    end = time.time()\n",
    "    time_execution = end - start\n",
    "    interation1.append(value)\n",
    "    time_for_execution1.append(time_execution)\n",
    "    value = value*10\n"
   ]
  },
  {
   "cell_type": "markdown",
   "metadata": {},
   "source": [
    "## Grafic for time vs amound of elements in array Binary Search"
   ]
  },
  {
   "cell_type": "code",
   "execution_count": 138,
   "metadata": {
    "scrolled": true
   },
   "outputs": [
    {
     "data": {
      "image/png": "[encoded data removed]",
      "text/plain": [
       "<Figure size 432x288 with 1 Axes>"
      ]
     },
     "metadata": {},
     "output_type": "display_data"
    },
    {
     "name": "stdout",
     "output_type": "stream",
     "text": [
      "[2.5510787963867188e-05, 1.2636184692382812e-05, 2.765655517578125e-05, 3.743171691894531e-05, 4.124641418457031e-05]\n",
      "[100, 1000, 10000, 100000, 1000000]\n"
     ]
    }
   ],
   "source": [
    "import matplotlib.pyplot as plt\n",
    "plt.xlabel(\"Values\")\n",
    "plt.ylabel(\"Time\")\n",
    "plt.plot(interation1,time_for_execution1)\n",
    "plt.show()\n",
    "print(time_for_execution1)\n",
    "print(interation1)"
   ]
  },
  {
   "cell_type": "code",
   "execution_count": 139,
   "metadata": {},
   "outputs": [],
   "source": [
    "interation2 = []\n",
    "time_for_execution2 = []\n",
    "value = 100\n",
    "## Binary Search\n",
    "for a in range(5):\n",
    "    random_numbers = random.sample(range(100000000), value)\n",
    "    start = time.time()\n",
    "    random_number = random.randint(1,100000000)\n",
    "    c= interpolation_search(random_numbers,random_number)\n",
    "    end = time.time()\n",
    "    time_execution = end - start\n",
    "    interation2.append(value)\n",
    "    time_for_execution2.append(time_execution)\n",
    "    value = value*10\n"
   ]
  },
  {
   "cell_type": "markdown",
   "metadata": {},
   "source": [
    "## Grafic for time vs amound of elements in array interpolation search"
   ]
  },
  {
   "cell_type": "code",
   "execution_count": 140,
   "metadata": {},
   "outputs": [
    {
     "data": {
      "image/png": "[encoded data removed]",
      "text/plain": [
       "<Figure size 432x288 with 1 Axes>"
      ]
     },
     "metadata": {},
     "output_type": "display_data"
    },
    {
     "name": "stdout",
     "output_type": "stream",
     "text": [
      "[2.0265579223632812e-05, 8.344650268554688e-06, 2.2649765014648438e-05, 2.3126602172851562e-05, 3.24249267578125e-05]\n",
      "[100, 1000, 10000, 100000, 1000000]\n"
     ]
    }
   ],
   "source": [
    "import matplotlib.pyplot as plt\n",
    "plt.xlabel(\"Values\")\n",
    "plt.ylabel(\"Time\")\n",
    "plt.plot(interation2,time_for_execution2)\n",
    "plt.show()\n",
    "print(time_for_execution2)\n",
    "print(interation2)"
   ]
  },
  {
   "cell_type": "code",
   "execution_count": 141,
   "metadata": {},
   "outputs": [],
   "source": [
    "interation3 = []\n",
    "time_for_execution3 = []\n",
    "value = 100\n",
    "## Sequantial search with sentinel\n",
    "for a in range(5):\n",
    "    random_numbers = random.sample(range(100000000), value)\n",
    "    random_numbers.sort()\n",
    "    start = time.time()\n",
    "    random_number = random.randint(1,100000000)\n",
    "    c= sequential_search_with_sentinel(random_numbers,random_number)\n",
    "    end = time.time()\n",
    "    time_execution = end - start\n",
    "    interation3.append(value)\n",
    "    time_for_execution3.append(time_execution)\n",
    "    value = value*10"
   ]
  },
  {
   "cell_type": "code",
   "execution_count": 142,
   "metadata": {},
   "outputs": [
    {
     "data": {
      "image/png": "[encoded data removed]",
      "text/plain": [
       "<Figure size 432x288 with 1 Axes>"
      ]
     },
     "metadata": {},
     "output_type": "display_data"
    },
    {
     "name": "stdout",
     "output_type": "stream",
     "text": [
      "[3.0040740966796875e-05, 0.00011134147644042969, 0.0035741329193115234, 0.015986919403076172, 0.3101654052734375]\n",
      "[100, 1000, 10000, 100000, 1000000]\n"
     ]
    }
   ],
   "source": [
    "import matplotlib.pyplot as plt\n",
    "plt.xlabel(\"Values\")\n",
    "plt.ylabel(\"Time\")\n",
    "plt.plot(interation3,time_for_execution3)\n",
    "plt.show()\n",
    "print(time_for_execution3)\n",
    "print(interation3)"
   ]
  },
  {
   "cell_type": "code",
   "execution_count": 143,
   "metadata": {},
   "outputs": [
    {
     "data": {
      "text/html": [
       "<div>\n",
       "<style scoped>\n",
       "    .dataframe tbody tr th:only-of-type {\n",
       "        vertical-align: middle;\n",
       "    }\n",
       "\n",
       "    .dataframe tbody tr th {\n",
       "        vertical-align: top;\n",
       "    }\n",
       "\n",
       "    .dataframe thead th {\n",
       "        text-align: right;\n",
       "    }\n",
       "</style>\n",
       "<table border=\"1\" class=\"dataframe\">\n",
       "  <thead>\n",
       "    <tr style=\"text-align: right;\">\n",
       "      <th></th>\n",
       "      <th>Algoritmo</th>\n",
       "      <th>Quantidade de elementos</th>\n",
       "      <th>Tempo de Execução</th>\n",
       "      <th>Valor de Procura</th>\n",
       "    </tr>\n",
       "  </thead>\n",
       "  <tbody>\n",
       "    <tr>\n",
       "      <th>0</th>\n",
       "      <td>Busca Binaria</td>\n",
       "      <td>69374</td>\n",
       "      <td>0.044765</td>\n",
       "      <td>56200</td>\n",
       "    </tr>\n",
       "    <tr>\n",
       "      <th>1</th>\n",
       "      <td>Busca Binaria</td>\n",
       "      <td>61409</td>\n",
       "      <td>0.039907</td>\n",
       "      <td>28436</td>\n",
       "    </tr>\n",
       "    <tr>\n",
       "      <th>2</th>\n",
       "      <td>Busca Binaria</td>\n",
       "      <td>23110</td>\n",
       "      <td>0.013392</td>\n",
       "      <td>19324</td>\n",
       "    </tr>\n",
       "    <tr>\n",
       "      <th>3</th>\n",
       "      <td>Busca Binaria</td>\n",
       "      <td>61744</td>\n",
       "      <td>0.039243</td>\n",
       "      <td>47294</td>\n",
       "    </tr>\n",
       "    <tr>\n",
       "      <th>4</th>\n",
       "      <td>Busca Binaria</td>\n",
       "      <td>94330</td>\n",
       "      <td>0.064576</td>\n",
       "      <td>57420</td>\n",
       "    </tr>\n",
       "  </tbody>\n",
       "</table>\n",
       "</div>"
      ],
      "text/plain": [
       "       Algoritmo  Quantidade de elementos  Tempo de Execução  Valor de Procura\n",
       "0  Busca Binaria                    69374           0.044765             56200\n",
       "1  Busca Binaria                    61409           0.039907             28436\n",
       "2  Busca Binaria                    23110           0.013392             19324\n",
       "3  Busca Binaria                    61744           0.039243             47294\n",
       "4  Busca Binaria                    94330           0.064576             57420"
      ]
     },
     "execution_count": 143,
     "metadata": {},
     "output_type": "execute_result"
    }
   ],
   "source": [
    "                                                                                                                                                                                                                                                                                                                                                                                                                                                                                                                                                                                                                                                                                                                                                                                        import pandas as pd\n",
    "import random\n",
    "import pandas as pd\n",
    "algorith =[]\n",
    "execution =[]\n",
    "amound =[]\n",
    "values_find =[]\n",
    "for a in range(500):\n",
    "    amound_of_numbers = random.randint(1,100000)\n",
    "    random_numbers_array = random.sample(range(100000), amound_of_numbers)\n",
    "    random_number_to_find = random.randint(1, amound_of_numbers)\n",
    "    start = time.time()\n",
    "    random_numbers_array.sort()\n",
    "    c = binary_search(random_numbers_array,random_number_to_find)\n",
    "    end = time.time()\n",
    "    execution_time = end - start\n",
    "    \n",
    "    algorith.append('Busca Binaria')\n",
    "    execution.append(execution_time)\n",
    "    amound.append(amound_of_numbers)\n",
    "    values_find.append(random_number_to_find)\n",
    "\n",
    "df = pd.DataFrame({'Algoritmo' :algorith ,'Tempo de Execução':execution ,'Quantidade de elementos':amound ,'Valor de Procura':values_find})\n",
    "df.head()"
   ]
  },
  {
   "cell_type": "code",
   "execution_count": 144,
   "metadata": {},
   "outputs": [
    {
     "data": {
      "text/html": [
       "<div>\n",
       "<style scoped>\n",
       "    .dataframe tbody tr th:only-of-type {\n",
       "        vertical-align: middle;\n",
       "    }\n",
       "\n",
       "    .dataframe tbody tr th {\n",
       "        vertical-align: top;\n",
       "    }\n",
       "\n",
       "    .dataframe thead th {\n",
       "        text-align: right;\n",
       "    }\n",
       "</style>\n",
       "<table border=\"1\" class=\"dataframe\">\n",
       "  <thead>\n",
       "    <tr style=\"text-align: right;\">\n",
       "      <th></th>\n",
       "      <th>Algoritmo</th>\n",
       "      <th>Quantidade de elementos</th>\n",
       "      <th>Tempo de Execução</th>\n",
       "      <th>Valor de Procura</th>\n",
       "    </tr>\n",
       "  </thead>\n",
       "  <tbody>\n",
       "    <tr>\n",
       "      <th>0</th>\n",
       "      <td>Insterpolação</td>\n",
       "      <td>32782</td>\n",
       "      <td>0.000008</td>\n",
       "      <td>14885</td>\n",
       "    </tr>\n",
       "    <tr>\n",
       "      <th>1</th>\n",
       "      <td>Insterpolação</td>\n",
       "      <td>67399</td>\n",
       "      <td>0.000005</td>\n",
       "      <td>53878</td>\n",
       "    </tr>\n",
       "    <tr>\n",
       "      <th>2</th>\n",
       "      <td>Insterpolação</td>\n",
       "      <td>25240</td>\n",
       "      <td>0.000014</td>\n",
       "      <td>5618</td>\n",
       "    </tr>\n",
       "    <tr>\n",
       "      <th>3</th>\n",
       "      <td>Insterpolação</td>\n",
       "      <td>73017</td>\n",
       "      <td>0.000010</td>\n",
       "      <td>51019</td>\n",
       "    </tr>\n",
       "    <tr>\n",
       "      <th>4</th>\n",
       "      <td>Insterpolação</td>\n",
       "      <td>45759</td>\n",
       "      <td>0.000023</td>\n",
       "      <td>18789</td>\n",
       "    </tr>\n",
       "  </tbody>\n",
       "</table>\n",
       "</div>"
      ],
      "text/plain": [
       "       Algoritmo  Quantidade de elementos  Tempo de Execução  Valor de Procura\n",
       "0  Insterpolação                    32782           0.000008             14885\n",
       "1  Insterpolação                    67399           0.000005             53878\n",
       "2  Insterpolação                    25240           0.000014              5618\n",
       "3  Insterpolação                    73017           0.000010             51019\n",
       "4  Insterpolação                    45759           0.000023             18789"
      ]
     },
     "execution_count": 144,
     "metadata": {},
     "output_type": "execute_result"
    }
   ],
   "source": [
    "import random\n",
    "import pandas as pd\n",
    "algorith =[]\n",
    "execution =[]\n",
    "amound =[]\n",
    "values_find =[]\n",
    "for a in range(500):\n",
    "    amound_of_numbers = random.randint(1,100000)\n",
    "    random_numbers_array = random.sample(range(100000), amound_of_numbers)\n",
    "    random_number_to_find = random.randint(1, amound_of_numbers)\n",
    "    start = time.time()\n",
    "    c = interpolation_search(random_numbers_array,random_number_to_find)\n",
    "    end = time.time()\n",
    "    execution_time = end - start\n",
    "    \n",
    "    algorith.append('Insterpolação')\n",
    "    execution.append(execution_time)\n",
    "    amound.append(amound_of_numbers)\n",
    "    values_find.append(random_number_to_find)\n",
    "df2 = pd.DataFrame({'Algoritmo' :algorith ,'Tempo de Execução':execution ,'Quantidade de elementos':amound ,'Valor de Procura':values_find})\n",
    "df2.head()"
   ]
  },
  {
   "cell_type": "code",
   "execution_count": 145,
   "metadata": {},
   "outputs": [
    {
     "data": {
      "text/html": [
       "<div>\n",
       "<style scoped>\n",
       "    .dataframe tbody tr th:only-of-type {\n",
       "        vertical-align: middle;\n",
       "    }\n",
       "\n",
       "    .dataframe tbody tr th {\n",
       "        vertical-align: top;\n",
       "    }\n",
       "\n",
       "    .dataframe thead th {\n",
       "        text-align: right;\n",
       "    }\n",
       "</style>\n",
       "<table border=\"1\" class=\"dataframe\">\n",
       "  <thead>\n",
       "    <tr style=\"text-align: right;\">\n",
       "      <th></th>\n",
       "      <th>Algoritmo</th>\n",
       "      <th>Quantidade de elementos</th>\n",
       "      <th>Tempo de Execução</th>\n",
       "      <th>Valor de Procura</th>\n",
       "    </tr>\n",
       "  </thead>\n",
       "  <tbody>\n",
       "    <tr>\n",
       "      <th>0</th>\n",
       "      <td>Sequencial com sentinela</td>\n",
       "      <td>12340</td>\n",
       "      <td>0.003608</td>\n",
       "      <td>9859</td>\n",
       "    </tr>\n",
       "    <tr>\n",
       "      <th>1</th>\n",
       "      <td>Sequencial com sentinela</td>\n",
       "      <td>85359</td>\n",
       "      <td>0.011730</td>\n",
       "      <td>14950</td>\n",
       "    </tr>\n",
       "    <tr>\n",
       "      <th>2</th>\n",
       "      <td>Sequencial com sentinela</td>\n",
       "      <td>94761</td>\n",
       "      <td>0.007439</td>\n",
       "      <td>45161</td>\n",
       "    </tr>\n",
       "    <tr>\n",
       "      <th>3</th>\n",
       "      <td>Sequencial com sentinela</td>\n",
       "      <td>8355</td>\n",
       "      <td>0.002379</td>\n",
       "      <td>2773</td>\n",
       "    </tr>\n",
       "    <tr>\n",
       "      <th>4</th>\n",
       "      <td>Sequencial com sentinela</td>\n",
       "      <td>18064</td>\n",
       "      <td>0.004490</td>\n",
       "      <td>14406</td>\n",
       "    </tr>\n",
       "  </tbody>\n",
       "</table>\n",
       "</div>"
      ],
      "text/plain": [
       "                  Algoritmo  Quantidade de elementos  Tempo de Execução  \\\n",
       "0  Sequencial com sentinela                    12340           0.003608   \n",
       "1  Sequencial com sentinela                    85359           0.011730   \n",
       "2  Sequencial com sentinela                    94761           0.007439   \n",
       "3  Sequencial com sentinela                     8355           0.002379   \n",
       "4  Sequencial com sentinela                    18064           0.004490   \n",
       "\n",
       "   Valor de Procura  \n",
       "0              9859  \n",
       "1             14950  \n",
       "2             45161  \n",
       "3              2773  \n",
       "4             14406  "
      ]
     },
     "execution_count": 145,
     "metadata": {},
     "output_type": "execute_result"
    }
   ],
   "source": [
    "import random\n",
    "import pandas as pd\n",
    "algorith =[]\n",
    "execution =[]\n",
    "amound =[]\n",
    "values_find =[]\n",
    "for a in range(500):\n",
    "    amound_of_numbers = random.randint(1,100000)\n",
    "    random_numbers_array = random.sample(range(100000), amound_of_numbers)\n",
    "    random_number_to_find = random.randint(1, amound_of_numbers)\n",
    "    start = time.time()\n",
    "    c = sequential_search_with_sentinel(random_numbers_array,random_number_to_find)\n",
    "    end = time.time()\n",
    "    execution_time = end - start\n",
    "    \n",
    "    algorith.append('Sequencial com sentinela')\n",
    "    execution.append(execution_time)\n",
    "    amound.append(amound_of_numbers)\n",
    "    values_find.append(random_number_to_find)\n",
    "df3 = pd.DataFrame({'Algoritmo' :algorith ,'Tempo de Execução':execution ,'Quantidade de elementos':amound ,'Valor de Procura':values_find})\n",
    "df3.head()"
   ]
  },
  {
   "cell_type": "code",
   "execution_count": 146,
   "metadata": {},
   "outputs": [
    {
     "data": {
      "text/plain": [
       "(1500, 4)"
      ]
     },
     "execution_count": 146,
     "metadata": {},
     "output_type": "execute_result"
    }
   ],
   "source": [
    "frames = [df, df2, df3]\n",
    "result =  pd.concat(frames)\n",
    "result.shape"
   ]
  },
  {
   "cell_type": "code",
   "execution_count": 147,
   "metadata": {},
   "outputs": [
    {
     "data": {
      "text/html": [
       "<div>\n",
       "<style scoped>\n",
       "    .dataframe tbody tr th:only-of-type {\n",
       "        vertical-align: middle;\n",
       "    }\n",
       "\n",
       "    .dataframe tbody tr th {\n",
       "        vertical-align: top;\n",
       "    }\n",
       "\n",
       "    .dataframe thead th {\n",
       "        text-align: right;\n",
       "    }\n",
       "</style>\n",
       "<table border=\"1\" class=\"dataframe\">\n",
       "  <thead>\n",
       "    <tr style=\"text-align: right;\">\n",
       "      <th></th>\n",
       "      <th>Algoritmo</th>\n",
       "      <th>Quantidade de elementos</th>\n",
       "      <th>Tempo de Execução</th>\n",
       "      <th>Valor de Procura</th>\n",
       "      <th>Busca Binaria</th>\n",
       "      <th>Insterpolação</th>\n",
       "      <th>Sequencial com sentinela</th>\n",
       "    </tr>\n",
       "  </thead>\n",
       "  <tbody>\n",
       "    <tr>\n",
       "      <th>0</th>\n",
       "      <td>Busca Binaria</td>\n",
       "      <td>69374</td>\n",
       "      <td>0.044765</td>\n",
       "      <td>56200</td>\n",
       "      <td>1</td>\n",
       "      <td>0</td>\n",
       "      <td>0</td>\n",
       "    </tr>\n",
       "    <tr>\n",
       "      <th>1</th>\n",
       "      <td>Busca Binaria</td>\n",
       "      <td>61409</td>\n",
       "      <td>0.039907</td>\n",
       "      <td>28436</td>\n",
       "      <td>1</td>\n",
       "      <td>0</td>\n",
       "      <td>0</td>\n",
       "    </tr>\n",
       "    <tr>\n",
       "      <th>2</th>\n",
       "      <td>Busca Binaria</td>\n",
       "      <td>23110</td>\n",
       "      <td>0.013392</td>\n",
       "      <td>19324</td>\n",
       "      <td>1</td>\n",
       "      <td>0</td>\n",
       "      <td>0</td>\n",
       "    </tr>\n",
       "    <tr>\n",
       "      <th>3</th>\n",
       "      <td>Busca Binaria</td>\n",
       "      <td>61744</td>\n",
       "      <td>0.039243</td>\n",
       "      <td>47294</td>\n",
       "      <td>1</td>\n",
       "      <td>0</td>\n",
       "      <td>0</td>\n",
       "    </tr>\n",
       "    <tr>\n",
       "      <th>4</th>\n",
       "      <td>Busca Binaria</td>\n",
       "      <td>94330</td>\n",
       "      <td>0.064576</td>\n",
       "      <td>57420</td>\n",
       "      <td>1</td>\n",
       "      <td>0</td>\n",
       "      <td>0</td>\n",
       "    </tr>\n",
       "  </tbody>\n",
       "</table>\n",
       "</div>"
      ],
      "text/plain": [
       "       Algoritmo  Quantidade de elementos  Tempo de Execução  \\\n",
       "0  Busca Binaria                    69374           0.044765   \n",
       "1  Busca Binaria                    61409           0.039907   \n",
       "2  Busca Binaria                    23110           0.013392   \n",
       "3  Busca Binaria                    61744           0.039243   \n",
       "4  Busca Binaria                    94330           0.064576   \n",
       "\n",
       "   Valor de Procura  Busca Binaria  Insterpolação  Sequencial com sentinela  \n",
       "0             56200              1              0                         0  \n",
       "1             28436              1              0                         0  \n",
       "2             19324              1              0                         0  \n",
       "3             47294              1              0                         0  \n",
       "4             57420              1              0                         0  "
      ]
     },
     "execution_count": 147,
     "metadata": {},
     "output_type": "execute_result"
    }
   ],
   "source": [
    "import numpy as np\n",
    "np.unique(result['Algoritmo'])\n",
    "algoritm = pd.DataFrame(pd.Series(result['Algoritmo']).str.get_dummies())\n",
    "result = pd.concat([result, algoritm], axis = 1)\n",
    "result.head()"
   ]
  },
  {
   "cell_type": "code",
   "execution_count": 148,
   "metadata": {},
   "outputs": [
    {
     "data": {
      "text/html": [
       "<div>\n",
       "<style scoped>\n",
       "    .dataframe tbody tr th:only-of-type {\n",
       "        vertical-align: middle;\n",
       "    }\n",
       "\n",
       "    .dataframe tbody tr th {\n",
       "        vertical-align: top;\n",
       "    }\n",
       "\n",
       "    .dataframe thead th {\n",
       "        text-align: right;\n",
       "    }\n",
       "</style>\n",
       "<table border=\"1\" class=\"dataframe\">\n",
       "  <thead>\n",
       "    <tr style=\"text-align: right;\">\n",
       "      <th></th>\n",
       "      <th>Quantidade de elementos</th>\n",
       "      <th>Tempo de Execução</th>\n",
       "      <th>Valor de Procura</th>\n",
       "      <th>Busca Binaria</th>\n",
       "      <th>Insterpolação</th>\n",
       "      <th>Sequencial com sentinela</th>\n",
       "    </tr>\n",
       "  </thead>\n",
       "  <tbody>\n",
       "    <tr>\n",
       "      <th>0</th>\n",
       "      <td>69374</td>\n",
       "      <td>0.044765</td>\n",
       "      <td>56200</td>\n",
       "      <td>1</td>\n",
       "      <td>0</td>\n",
       "      <td>0</td>\n",
       "    </tr>\n",
       "    <tr>\n",
       "      <th>1</th>\n",
       "      <td>61409</td>\n",
       "      <td>0.039907</td>\n",
       "      <td>28436</td>\n",
       "      <td>1</td>\n",
       "      <td>0</td>\n",
       "      <td>0</td>\n",
       "    </tr>\n",
       "    <tr>\n",
       "      <th>2</th>\n",
       "      <td>23110</td>\n",
       "      <td>0.013392</td>\n",
       "      <td>19324</td>\n",
       "      <td>1</td>\n",
       "      <td>0</td>\n",
       "      <td>0</td>\n",
       "    </tr>\n",
       "    <tr>\n",
       "      <th>3</th>\n",
       "      <td>61744</td>\n",
       "      <td>0.039243</td>\n",
       "      <td>47294</td>\n",
       "      <td>1</td>\n",
       "      <td>0</td>\n",
       "      <td>0</td>\n",
       "    </tr>\n",
       "    <tr>\n",
       "      <th>4</th>\n",
       "      <td>94330</td>\n",
       "      <td>0.064576</td>\n",
       "      <td>57420</td>\n",
       "      <td>1</td>\n",
       "      <td>0</td>\n",
       "      <td>0</td>\n",
       "    </tr>\n",
       "  </tbody>\n",
       "</table>\n",
       "</div>"
      ],
      "text/plain": [
       "   Quantidade de elementos  Tempo de Execução  Valor de Procura  \\\n",
       "0                    69374           0.044765             56200   \n",
       "1                    61409           0.039907             28436   \n",
       "2                    23110           0.013392             19324   \n",
       "3                    61744           0.039243             47294   \n",
       "4                    94330           0.064576             57420   \n",
       "\n",
       "   Busca Binaria  Insterpolação  Sequencial com sentinela  \n",
       "0              1              0                         0  \n",
       "1              1              0                         0  \n",
       "2              1              0                         0  \n",
       "3              1              0                         0  \n",
       "4              1              0                         0  "
      ]
     },
     "execution_count": 148,
     "metadata": {},
     "output_type": "execute_result"
    }
   ],
   "source": [
    "result.drop(['Algoritmo'],axis=1,inplace=True)\n",
    "result.head()"
   ]
  },
  {
   "cell_type": "code",
   "execution_count": 156,
   "metadata": {},
   "outputs": [
    {
     "name": "stdout",
     "output_type": "stream",
     "text": [
      "<class 'pandas.core.frame.DataFrame'>\n",
      "Int64Index: 1500 entries, 0 to 499\n",
      "Data columns (total 6 columns):\n",
      "Quantidade de elementos     1500 non-null object\n",
      "Tempo de Execução           1500 non-null object\n",
      "Valor de Procura            1500 non-null object\n",
      "Busca Binaria               1500 non-null object\n",
      "Insterpolação               1500 non-null object\n",
      "Sequencial com sentinela    1500 non-null object\n",
      "dtypes: object(6)\n",
      "memory usage: 82.0+ KB\n"
     ]
    }
   ],
   "source": [
    "result['Quantidade de elementos'] = result['Quantidade de elementos'].astype(str)\n",
    "result['Valor de Procura'] = result['Valor de Procura'].astype(str)\n",
    "result['Busca Binaria'] = result['Busca Binaria'].astype(str)\n",
    "result['Insterpolação'] = result['Insterpolação'].astype(str)\n",
    "result['Sequencial com sentinela'] = result['Sequencial com sentinela'].astype(str)\n",
    "\n",
    "result['Tempo de Execução'] = result['Tempo de Execução'].astype(str)\n",
    "result.info()"
   ]
  },
  {
   "cell_type": "code",
   "execution_count": 165,
   "metadata": {},
   "outputs": [],
   "source": [
    "from sklearn.tree import DecisionTreeClassifier, export_graphviz\n",
    "from sklearn.model_selection import train_test_split\n",
    "from sklearn.metrics import accuracy_score, confusion_matrix, classification_report, precision_score, recall_score, hamming_loss\n",
    "\n",
    "knn = KNeighborsClassifier()\n",
    "X = result.drop(['Tempo de Execução'],axis=1)\n",
    "Y = result['Tempo de Execução']\n",
    "x_train, x_test, y_train, y_test = train_test_split(X, Y, test_size=0.33, random_state=42)\n",
    "tree = DecisionTreeClassifier()\n",
    "tree.fit(x_train,y_train)\n",
    "\n",
    "columns = ['Quantidade de elementos','Tempo de Execução','Valor de Procura','Busca Binaria','Sequencial com sentinela']\n",
    "def visualize_tree(tree, feature_names):\n",
    "    \n",
    "    with open(\"tree.dot\", 'w') as f:\n",
    "        export_graphviz(tree, out_file=f,\n",
    "                        feature_names=feature_names)\n",
    "\n",
    "    command = [\"dot\", \"-Tpng\", \"tree.dot\", \"-o\", \"tree.png\"]\n",
    "    try:\n",
    "        subprocess.check_call(command)\n",
    "    except:\n",
    "        exit(\"Não foi possivel abrir o arquivo\")\n",
    "    \n",
    "visualize_tree(tree, columns)"
   ]
  },
  {
   "cell_type": "markdown",
   "metadata": {},
   "source": [
    "<img src=\"tree.png\" height=\"5000\" width=\"5000\">\n"
   ]
  },
  {
   "cell_type": "code",
   "execution_count": 170,
   "metadata": {},
   "outputs": [
    {
     "name": "stdout",
     "output_type": "stream",
     "text": [
      "0.026262626262626262\n"
     ]
    }
   ],
   "source": [
    "preds = tree.predict(x_test)\n",
    "print(accuracy_score(y_test, preds))\n"
   ]
  }
 ],
 "metadata": {
  "kernelspec": {
   "display_name": "Python 3",
   "language": "python",
   "name": "python3"
  },
  "language_info": {
   "codemirror_mode": {
    "name": "ipython",
    "version": 3
   },
   "file_extension": ".py",
   "mimetype": "text/x-python",
   "name": "python",
   "nbconvert_exporter": "python",
   "pygments_lexer": "ipython3",
   "version": "3.5.2"
  }
 },
 "nbformat": 4,
 "nbformat_minor": 2
}
