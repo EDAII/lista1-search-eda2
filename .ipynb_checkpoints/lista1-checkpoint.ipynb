{
 "cells": [
  {
   "cell_type": "code",
<<<<<<< HEAD
   "execution_count": 1,
=======
   "execution_count": 19,
>>>>>>> a66781798fdad0f7096539b3d8471d8570c34c8a
   "metadata": {},
   "outputs": [],
   "source": [
    "import time, random"
   ]
  },
  {
   "cell_type": "markdown",
   "metadata": {},
   "source": [
    "## Binary Search"
   ]
  },
  {
   "cell_type": "code",
<<<<<<< HEAD
   "execution_count": 2,
=======
   "execution_count": 20,
>>>>>>> a66781798fdad0f7096539b3d8471d8570c34c8a
   "metadata": {},
   "outputs": [],
   "source": [
    "def binary_search(number_list, number):\n",
    "    min_value = 0\n",
    "    max_value = len(number_list) \n",
    "\n",
    "    while min_value <= max_value:\n",
    "        i = (min_value + max_value) // 2\n",
    "        middle = int(i)\n",
    "        if number_list[middle] == number:\n",
    "            return True\n",
    "        elif number_list[middle] > number:\n",
    "            max_value = middle - 1\n",
    "        elif number_list[middle] < number:\n",
    "            min_value = middle + 1\n",
    "        else:\n",
    "            return False\n"
   ]
  },
  {
   "cell_type": "markdown",
   "metadata": {},
   "source": [
    "## Sequential Search"
   ]
  },
  {
   "cell_type": "code",
   "execution_count": 31,
   "metadata": {},
   "outputs": [],
   "source": [
    "def sequential_search_with_sentinel(number_list, key):\n",
    "    number_list.append(key)\n",
    "    index = 0\n",
    "\n",
    "    while number_list[index] != key:\n",
    "        index += 1\n",
    "    number_list.pop()\n",
    "\n",
    "    if index == len(number_list)-1:\n",
    "        return -1 \n",
    "\n",
    "    return index\n",
    "    "
   ]
  },
  {
   "cell_type": "markdown",
   "metadata": {},
   "source": [
    "## Interpolation Search"
   ]
  },
  {
   "cell_type": "code",
   "execution_count": 49,
   "metadata": {},
   "outputs": [],
   "source": [
    "def interpolation_search(number_list, key):\n",
    "    min_value = 0\n",
    "    max_value = len(number_list) - 1\n",
    "    \n",
    "    while number_list[min_value] <= key and number_list[max_value] >= key:\n",
    "        aux = (min_value + (max_value - min_value) * (key - number_list[min_value]) // (number_list[max_value] - number_list[min_value]))\n",
    "        middle = int(aux)\n",
    "        if number_list[middle] == key:\n",
    "            return middle\n",
    "        elif number_list[middle] > key:\n",
    "            max_value = middle - 1\n",
    "        elif number_list[middle] < key:\n",
    "            min_value = middle + 1\n",
    "        else:\n",
    "            return False"
   ]
  },
  {
   "cell_type": "code",
   "execution_count": 50,
   "metadata": {},
   "outputs": [
    {
     "name": "stdout",
     "output_type": "stream",
     "text": [
      "valor True\n"
     ]
    }
   ],
   "source": [
    "vetor = [10, 12, 13, 16, 18, 19, 20, 21]\n",
    "print (\"valor\", interpolation_search(vetor, 18))"
   ]
  },
  {
   "cell_type": "markdown",
   "metadata": {},
   "source": [
    "## Create values amound of values and get time for execute the algorithm"
   ]
  },
  {
   "cell_type": "code",
<<<<<<< HEAD
   "execution_count": 3,
=======
   "execution_count": 23,
>>>>>>> a66781798fdad0f7096539b3d8471d8570c34c8a
   "metadata": {},
   "outputs": [
    {
     "name": "stdout",
     "output_type": "stream",
     "text": [
      "Quantidade de Valores 100\n",
<<<<<<< HEAD
      "Valor a ser procurado 55627908\n",
      "Quantidade de Valores 1000\n",
      "Valor a ser procurado 70783179\n",
      "Quantidade de Valores 10000\n",
      "Valor a ser procurado 14742040\n",
      "Quantidade de Valores 100000\n",
      "Valor a ser procurado 93058697\n",
      "Quantidade de Valores 1000000\n",
      "Valor a ser procurado 58362867\n"
=======
      "Valor a ser procurado 54279977\n",
      "Quantidade de Valores 1000\n",
      "Valor a ser procurado 59911290\n",
      "Quantidade de Valores 10000\n",
      "Valor a ser procurado 82137815\n",
      "Quantidade de Valores 100000\n",
      "Valor a ser procurado 53319869\n",
      "Quantidade de Valores 1000000\n",
      "Valor a ser procurado 70345510\n"
>>>>>>> a66781798fdad0f7096539b3d8471d8570c34c8a
     ]
    }
   ],
   "source": [
    "interation = []\n",
    "time_for_execution = []\n",
    "value = 100\n",
    "for a in range(5):\n",
    "    print(\"Quantidade de Valores\",value)\n",
    "    random_numbers = random.sample(range(100000000), value)\n",
    "    random_numbers.sort()\n",
    "    start = time.time()\n",
    "    random_number = random.randint(1,100000000)\n",
    "    c= binary_search(random_numbers,random_number)\n",
    "    end = time.time()\n",
    "    print(\"Valor a ser procurado\", random_number)\n",
    "    time_execution = end - start\n",
    "    interation.append(value)\n",
    "    time_for_execution.append(time_execution)\n",
    "    value = value*10"
   ]
  },
  {
   "cell_type": "markdown",
   "metadata": {},
   "source": [
    "## Grafic for time vs amound of elements in array"
   ]
  },
  {
   "cell_type": "code",
<<<<<<< HEAD
   "execution_count": 5,
=======
   "execution_count": 24,
>>>>>>> a66781798fdad0f7096539b3d8471d8570c34c8a
   "metadata": {
    "scrolled": true
   },
   "outputs": [
    {
     "data": {
<<<<<<< HEAD
      "image/png": "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\n",
=======
      "image/png": "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\n",
>>>>>>> a66781798fdad0f7096539b3d8471d8570c34c8a
      "text/plain": [
       "<Figure size 432x288 with 1 Axes>"
      ]
     },
     "metadata": {},
     "output_type": "display_data"
    },
    {
     "name": "stdout",
     "output_type": "stream",
     "text": [
<<<<<<< HEAD
      "[1.2636184692382812e-05, 1.8358230590820312e-05, 2.1696090698242188e-05, 3.3855438232421875e-05, 4.220008850097656e-05]\n",
=======
      "[0.00011777877807617188, 6.318092346191406e-05, 0.00017189979553222656, 8.20159912109375e-05, 0.00013399124145507812]\n",
>>>>>>> a66781798fdad0f7096539b3d8471d8570c34c8a
      "[100, 1000, 10000, 100000, 1000000]\n"
     ]
    }
   ],
   "source": [
    "import matplotlib.pyplot as plt\n",
    "plt.xlabel(\"Values\")\n",
    "plt.ylabel(\"Time\")\n",
    "plt.plot(interation,time_for_execution)\n",
    "plt.show()\n",
    "print(time_for_execution)\n",
    "print(interation)"
   ]
  },
  {
   "cell_type": "code",
   "execution_count": 18,
   "metadata": {},
   "outputs": [
    {
     "ename": "AttributeError",
     "evalue": "'Series' object has no attribute 'insert'",
     "output_type": "error",
     "traceback": [
      "\u001b[0;31m---------------------------------------------------------------------------\u001b[0m",
      "\u001b[0;31mAttributeError\u001b[0m                            Traceback (most recent call last)",
      "\u001b[0;32m<ipython-input-18-83bd63824a55>\u001b[0m in \u001b[0;36m<module>\u001b[0;34m()\u001b[0m\n\u001b[1;32m     11\u001b[0m     \u001b[0mend\u001b[0m \u001b[0;34m=\u001b[0m \u001b[0mtime\u001b[0m\u001b[0;34m.\u001b[0m\u001b[0mtime\u001b[0m\u001b[0;34m(\u001b[0m\u001b[0;34m)\u001b[0m\u001b[0;34m\u001b[0m\u001b[0m\n\u001b[1;32m     12\u001b[0m     \u001b[0mexecution_time\u001b[0m \u001b[0;34m=\u001b[0m \u001b[0mend\u001b[0m \u001b[0;34m-\u001b[0m \u001b[0mstart\u001b[0m\u001b[0;34m\u001b[0m\u001b[0m\n\u001b[0;32m---> 13\u001b[0;31m     \u001b[0mdf\u001b[0m\u001b[0;34m[\u001b[0m\u001b[0;34m'Algoritmo'\u001b[0m\u001b[0;34m]\u001b[0m\u001b[0;34m.\u001b[0m\u001b[0minsert\u001b[0m\u001b[0;34m(\u001b[0m\u001b[0;34m'Busca Binaria'\u001b[0m\u001b[0;34m)\u001b[0m\u001b[0;34m\u001b[0m\u001b[0m\n\u001b[0m\u001b[1;32m     14\u001b[0m     \u001b[0mdf\u001b[0m\u001b[0;34m[\u001b[0m\u001b[0;34m'Tempo de Execução'\u001b[0m\u001b[0;34m]\u001b[0m \u001b[0;34m=\u001b[0m \u001b[0mexecution_time\u001b[0m\u001b[0;34m\u001b[0m\u001b[0m\n\u001b[1;32m     15\u001b[0m     \u001b[0mdf\u001b[0m\u001b[0;34m[\u001b[0m\u001b[0;34m'Quantidade de elementos'\u001b[0m\u001b[0;34m]\u001b[0m \u001b[0;34m=\u001b[0m \u001b[0mamound_of_numbers\u001b[0m\u001b[0;34m\u001b[0m\u001b[0m\n",
      "\u001b[0;32m/usr/local/lib/python3.5/dist-packages/pandas/core/generic.py\u001b[0m in \u001b[0;36m__getattr__\u001b[0;34m(self, name)\u001b[0m\n\u001b[1;32m   4374\u001b[0m             \u001b[0;32mif\u001b[0m \u001b[0mself\u001b[0m\u001b[0;34m.\u001b[0m\u001b[0m_info_axis\u001b[0m\u001b[0;34m.\u001b[0m\u001b[0m_can_hold_identifiers_and_holds_name\u001b[0m\u001b[0;34m(\u001b[0m\u001b[0mname\u001b[0m\u001b[0;34m)\u001b[0m\u001b[0;34m:\u001b[0m\u001b[0;34m\u001b[0m\u001b[0m\n\u001b[1;32m   4375\u001b[0m                 \u001b[0;32mreturn\u001b[0m \u001b[0mself\u001b[0m\u001b[0;34m[\u001b[0m\u001b[0mname\u001b[0m\u001b[0;34m]\u001b[0m\u001b[0;34m\u001b[0m\u001b[0m\n\u001b[0;32m-> 4376\u001b[0;31m             \u001b[0;32mreturn\u001b[0m \u001b[0mobject\u001b[0m\u001b[0;34m.\u001b[0m\u001b[0m__getattribute__\u001b[0m\u001b[0;34m(\u001b[0m\u001b[0mself\u001b[0m\u001b[0;34m,\u001b[0m \u001b[0mname\u001b[0m\u001b[0;34m)\u001b[0m\u001b[0;34m\u001b[0m\u001b[0m\n\u001b[0m\u001b[1;32m   4377\u001b[0m \u001b[0;34m\u001b[0m\u001b[0m\n\u001b[1;32m   4378\u001b[0m     \u001b[0;32mdef\u001b[0m \u001b[0m__setattr__\u001b[0m\u001b[0;34m(\u001b[0m\u001b[0mself\u001b[0m\u001b[0;34m,\u001b[0m \u001b[0mname\u001b[0m\u001b[0;34m,\u001b[0m \u001b[0mvalue\u001b[0m\u001b[0;34m)\u001b[0m\u001b[0;34m:\u001b[0m\u001b[0;34m\u001b[0m\u001b[0m\n",
      "\u001b[0;31mAttributeError\u001b[0m: 'Series' object has no attribute 'insert'"
     ]
    }
   ],
   "source": [
    "                                                                                                                                                                                                                                                                                                                                                                                                                                                                                                                                                                                                                                                                                                                                                                                        import pandas as pd\n",
    "import random\n",
    "d = {'Algoritmo' :[],'Tempo de Execução':[],'Quantidade de elementos':[],'Valor de Procura':[]}\n",
    "df = pd.DataFrame(d)\n",
    "for a in range(2):\n",
    "    amound_of_numbers = random.randint(1,100000)\n",
    "    random_numbers_array = random.sample(range(100000), amound_of_numbers)\n",
    "    random_number_to_find = random.randint(1, amound_of_numbers)\n",
    "    start = time.time()\n",
    "    c = binary_search(random_numbers_array,random_number_to_find)\n",
    "    end = time.time()\n",
    "    execution_time = end - start\n",
    "    df['Algoritmo'] = 'Busca Binaria'\n",
    "    df['Tempo de Execução'] = execution_time\n",
    "    df['Quantidade de elementos'] = amound_of_numbers\n",
    "    df['Valor de Procura'] = random_number_to_find\n",
    "df.head()"
   ]
  },
  {
   "cell_type": "code",
   "execution_count": null,
   "metadata": {},
   "outputs": [],
   "source": []
  },
  {
   "cell_type": "code",
   "execution_count": null,
   "metadata": {},
   "outputs": [],
   "source": []
  }
 ],
 "metadata": {
  "kernelspec": {
   "display_name": "Python 3",
   "language": "python",
   "name": "python3"
  },
  "language_info": {
   "codemirror_mode": {
    "name": "ipython",
    "version": 3
   },
   "file_extension": ".py",
   "mimetype": "text/x-python",
   "name": "python",
   "nbconvert_exporter": "python",
   "pygments_lexer": "ipython3",
   "version": "3.6.5"
  }
 },
 "nbformat": 4,
 "nbformat_minor": 2
}
