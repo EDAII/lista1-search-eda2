{
 "cells": [
  {
   "cell_type": "code",
   "execution_count": 44,
   "metadata": {},
   "outputs": [],
   "source": [
    "import time, random"
   ]
  },
  {
   "cell_type": "markdown",
   "metadata": {},
   "source": [
    "## Binary Search"
   ]
  },
  {
   "cell_type": "code",
   "execution_count": 64,
   "metadata": {},
   "outputs": [],
   "source": [
    "def binary_search(number_list, number):\n",
    "    min_value = 0\n",
    "    max_value = len(number_list) \n",
    "\n",
    "    while min_value <= max_value:\n",
    "        i = (min_value + max_value) // 2\n",
    "        middle = int(i)\n",
    "        if number_list[middle] == number:\n",
    "            return True\n",
    "        elif number_list[middle] > number:\n",
    "            max_value = middle - 1\n",
    "        elif number_list[middle] < number:\n",
    "            min_value = middle + 1\n",
    "        else:\n",
    "            return False\n"
   ]
  },
  {
   "cell_type": "markdown",
   "metadata": {},
   "source": [
    "## Sequential Search"
   ]
  },
  {
   "cell_type": "code",
   "execution_count": 65,
   "metadata": {},
   "outputs": [],
   "source": [
    "def sequential_search_with_sentinel(number_list, key):\n",
    "    number_list.append(key)\n",
    "    index = 0\n",
    "\n",
    "    while number_list[index] != key:\n",
    "        index += 1\n",
    "    number_list.pop()\n",
    "\n",
    "    if index == len(number_list)-1:\n",
    "        return -1 \n",
    "\n",
    "    return index\n",
    "    "
   ]
  },
  {
   "cell_type": "markdown",
   "metadata": {},
   "source": [
    "## Interpolation Search"
   ]
  },
  {
   "cell_type": "code",
   "execution_count": 66,
   "metadata": {},
   "outputs": [],
   "source": [
    "def interpolation_search(number_list, key):\n",
    "    min_value = 0\n",
    "    max_value = len(number_list) - 1\n",
    "    \n",
    "    while number_list[min_value] <= key and number_list[max_value] >= key:\n",
    "        aux = (min_value + (max_value - min_value) * (key - number_list[min_value]) // (number_list[max_value] - number_list[min_value]))\n",
    "        middle = int(aux)\n",
    "        if number_list[middle] == key:\n",
    "            return middle\n",
    "        elif number_list[middle] > key:\n",
    "            max_value = middle - 1\n",
    "        elif number_list[middle] < key:\n",
    "            min_value = middle + 1\n",
    "        else:\n",
    "            return False"
   ]
  },
  {
   "cell_type": "code",
   "execution_count": 48,
   "metadata": {},
   "outputs": [
    {
     "name": "stdout",
     "output_type": "stream",
     "text": [
      "valor 4\n"
     ]
    }
   ],
   "source": [
    "vetor = [10, 12, 13, 16, 18, 19, 20, 21]\n",
    "print (\"valor\", interpolation_search(vetor, 18))"
   ]
  },
  {
   "cell_type": "markdown",
   "metadata": {},
   "source": [
    "## Create values amound of values and get time for execute the algorithm"
   ]
  },
  {
   "cell_type": "code",
   "execution_count": 67,
   "metadata": {},
   "outputs": [
    {
     "name": "stdout",
     "output_type": "stream",
     "text": [
      "Quantidade de Valores 100\n",
      "Valor a ser procurado 20045527\n",
      "Quantidade de Valores 1000\n",
      "Valor a ser procurado 17294321\n",
      "Quantidade de Valores 10000\n",
      "Valor a ser procurado 52929047\n",
      "Quantidade de Valores 100000\n",
      "Valor a ser procurado 45944512\n",
      "Quantidade de Valores 1000000\n",
      "Valor a ser procurado 32836239\n"
     ]
    }
   ],
   "source": [
    "interation = []\n",
    "time_for_execution = []\n",
    "value = 100\n",
    "for a in range(5):\n",
    "    print(\"Quantidade de Valores\",value)\n",
    "    random_numbers = random.sample(range(100000000), value)\n",
    "    random_numbers.sort()\n",
    "    start = time.time()\n",
    "    random_number = random.randint(1,100000000)\n",
    "    c= binary_search(random_numbers,random_number)\n",
    "    end = time.time()\n",
    "    print(\"Valor a ser procurado\", random_number)\n",
    "    time_execution = end - start\n",
    "    interation.append(value)\n",
    "    time_for_execution.append(time_execution)\n",
    "    value = value*10"
   ]
  },
  {
   "cell_type": "markdown",
   "metadata": {},
   "source": [
    "## Grafic for time vs amound of elements in array"
   ]
  },
  {
   "cell_type": "code",
   "execution_count": 68,
   "metadata": {
    "scrolled": true
   },
   "outputs": [
    {
     "data": {

      "image/png": "[encoded data removed]",
      "text/plain": [
       "<Figure size 432x288 with 1 Axes>"
      ]
     },
     "metadata": {},
     "output_type": "display_data"
    },
    {
     "name": "stdout",
     "output_type": "stream",
     "text": [

      "[100, 1000, 10000, 100000, 1000000]\n"
     ]
    }
   ],
   "source": [
    "import matplotlib.pyplot as plt\n",
    "plt.xlabel(\"Values\")\n",
    "plt.ylabel(\"Time\")\n",
    "plt.plot(interation,time_for_execution)\n",
    "plt.show()\n",
    "print(time_for_execution)\n",
    "print(interation)"
   ]

  },
  {
   "cell_type": "code",
   "execution_count": 51,
   "metadata": {},
   "outputs": [
    {
     "data": {
      "text/html": [
       "<div>\n",
       "<style scoped>\n",
       "    .dataframe tbody tr th:only-of-type {\n",
       "        vertical-align: middle;\n",
       "    }\n",
       "\n",
       "    .dataframe tbody tr th {\n",
       "        vertical-align: top;\n",
       "    }\n",
       "\n",
       "    .dataframe thead th {\n",
       "        text-align: right;\n",
       "    }\n",
       "</style>\n",
       "<table border=\"1\" class=\"dataframe\">\n",
       "  <thead>\n",
       "    <tr style=\"text-align: right;\">\n",
       "      <th></th>\n",
       "      <th>Algoritmo</th>\n",
       "      <th>Quantidade de elementos</th>\n",
       "      <th>Tempo de Execução</th>\n",
       "      <th>Valor de Procura</th>\n",
       "    </tr>\n",
       "  </thead>\n",
       "  <tbody>\n",
       "    <tr>\n",
       "      <th>0</th>\n",
       "      <td>Busca Binaria</td>\n",
       "      <td>69763</td>\n",
       "      <td>0.000020</td>\n",
       "      <td>11617</td>\n",
       "    </tr>\n",
       "    <tr>\n",
       "      <th>1</th>\n",
       "      <td>Busca Binaria</td>\n",
       "      <td>85590</td>\n",
       "      <td>0.000021</td>\n",
       "      <td>33033</td>\n",
       "    </tr>\n",
       "  </tbody>\n",
       "</table>\n",
       "</div>"
      ],
      "text/plain": [
       "       Algoritmo  Quantidade de elementos  Tempo de Execução  Valor de Procura\n",
       "0  Busca Binaria                    69763           0.000020             11617\n",
       "1  Busca Binaria                    85590           0.000021             33033"
      ]
     },
     "execution_count": 51,
     "metadata": {},
     "output_type": "execute_result"
    }
   ],
   "source": [
    "                                                                                                                                                                                                                                                                                                                                                                                                                                                                                                                                                                                                                                                                                                                                                                                        import pandas as pd\n",
    "import random\n",
    "import pandas as pd\n",
    "algorith =[]\n",
    "execution =[]\n",
    "amound =[]\n",
    "values_find =[]\n",
    "for a in range(2):\n",
    "    amound_of_numbers = random.randint(1,100000)\n",
    "    random_numbers_array = random.sample(range(100000), amound_of_numbers)\n",
    "    random_number_to_find = random.randint(1, amound_of_numbers)\n",
    "    start = time.time()\n",
    "    c = binary_search(random_numbers_array,random_number_to_find)\n",
    "    end = time.time()\n",
    "    execution_time = end - start\n",
    "    \n",
    "    algorith.append('Busca Binaria')\n",
    "    execution.append(execution_time)\n",
    "    amound.append(amound_of_numbers)\n",
    "    values_find.append(random_number_to_find)\n",
    "\n",
    "df = pd.DataFrame({'Algoritmo' :algorith ,'Tempo de Execução':execution ,'Quantidade de elementos':amound ,'Valor de Procura':values_find})\n",
    "df.head()"
   ]
  },
  {
   "cell_type": "code",
   "execution_count": null,
   "metadata": {},
   "outputs": [],
   "source": []
  },
  {
   "cell_type": "code",
   "execution_count": null,
   "metadata": {},
   "outputs": [],
   "source": []

  }
 ],
 "metadata": {
  "kernelspec": {
   "display_name": "Python 3",
   "language": "python",
   "name": "python3"
  },
  "language_info": {
   "codemirror_mode": {
    "name": "ipython",
    "version": 3
   },
   "file_extension": ".py",
   "mimetype": "text/x-python",
   "name": "python",
   "nbconvert_exporter": "python",
   "pygments_lexer": "ipython3",
   "version": "3.5.2"
  }
 },
 "nbformat": 4,
 "nbformat_minor": 2
}
