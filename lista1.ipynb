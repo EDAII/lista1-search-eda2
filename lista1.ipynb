{
 "cells": [
  {
   "cell_type": "code",
   "execution_count": 2,
   "metadata": {},
   "outputs": [],
   "source": [
    "import time, random\n"
   ]
  },
  {
   "cell_type": "code",
   "execution_count": 3,
   "metadata": {},
   "outputs": [],
   "source": [
    "def binary_search(number_list, number):\n",
    "    min_value = 0\n",
    "    max_value = len(number_list) \n",
    "\n",
    "    while min_value <= max_value:\n",
    "        i = (min_value + max_value) // 2\n",
    "        middle = int(i)\n",
    "        if number_list[middle] == number:\n",
    "            return True\n",
    "        elif number_list[middle] > number:\n",
    "            max_value = middle - 1\n",
    "        elif number_list[middle] < number:\n",
    "            min_value = middle + 1\n",
    "        else:\n",
    "            return False\n"
   ]
  },
  {
   "cell_type": "code",
   "execution_count": 17,
   "metadata": {},
   "outputs": [
    {
     "name": "stdout",
     "output_type": "stream",
     "text": [
      "100\n",
      "1000\n",
      "10000\n",
      "100000\n",
      "1000000\n"
     ]
    }
   ],
   "source": [
    "interation = []\n",
    "time_for_execution = []\n",
    "value = 100\n",
    "for a in range(5):\n",
    "    print(value)\n",
    "    random_numbers = random.sample(range(100000000), value)\n",
    "    random_numbers.sort()\n",
    "    start = time.time()\n",
    "    c= binary_search(random_numbers,500)\n",
    "    end = time.time()\n",
    "    time_execution = end - start\n",
    "    interation.append(value)\n",
    "    time_for_execution.append(time_execution)\n",
    "    value = value*10"
   ]
  },
  {
   "cell_type": "code",
   "execution_count": 21,
   "metadata": {},
   "outputs": [
    {
     "data": {
      "image/png": "[encoded data removed]",
      "text/plain": [
       "<Figure size 432x288 with 1 Axes>"
      ]
     },
     "metadata": {},
     "output_type": "display_data"
    },
    {
     "name": "stdout",
     "output_type": "stream",
     "text": [
      "[1.5497207641601562e-05, 8.58306884765625e-06, 2.4557113647460938e-05, 2.1457672119140625e-05, 2.7179718017578125e-05]\n",
      "[100, 1000, 10000, 100000, 1000000]\n"
     ]
    }
   ],
   "source": [
    "import matplotlib.pyplot as plt\n",
    "plt.xlabel(\"Values\")\n",
    "plt.ylabel(\"Time\")\n",
    "plt.plot(interation,time_for_execution)\n",
    "plt.show()\n",
    "print(time_for_execution)\n",
    "print(interation)"
   ]
  },
  {
   "cell_type": "code",
   "execution_count": null,
   "metadata": {},
   "outputs": [],
   "source": []
  }
 ],
 "metadata": {
  "kernelspec": {
   "display_name": "Python 3",
   "language": "python",
   "name": "python3"
  },
  "language_info": {
   "codemirror_mode": {
    "name": "ipython",
    "version": 3
   },
   "file_extension": ".py",
   "mimetype": "text/x-python",
   "name": "python",
   "nbconvert_exporter": "python",
   "pygments_lexer": "ipython3",
   "version": "3.5.2"
  }
 },
 "nbformat": 4,
 "nbformat_minor": 2
}
