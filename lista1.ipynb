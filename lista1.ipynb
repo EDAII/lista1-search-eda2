{
 "cells": [
  {
   "cell_type": "code",
   "execution_count": 36,
   "metadata": {},
   "outputs": [],
   "source": [
    "import time, random"
   ]
  },
  {
   "cell_type": "markdown",
   "metadata": {},
   "source": [
    "## Binary Search"
   ]
  },
  {
   "cell_type": "code",
   "execution_count": 37,
   "metadata": {},
   "outputs": [],
   "source": [
    "def binary_search(number_list, number):\n",
    "    min_value = 0\n",
    "    max_value = len(number_list) \n",
    "\n",
    "    while min_value <= max_value:\n",
    "        i = (min_value + max_value) // 2\n",
    "        middle = int(i)\n",
    "        if number_list[middle] == number:\n",
    "            return True\n",
    "        elif number_list[middle] > number:\n",
    "            max_value = middle - 1\n",
    "        elif number_list[middle] < number:\n",
    "            min_value = middle + 1\n",
    "        else:\n",
    "            return False\n"
   ]
  },
  {
   "cell_type": "markdown",
   "metadata": {},
   "source": [
    "## Create values amound of values and get time for execute the algorithm"
   ]
  },
  {
   "cell_type": "code",
   "execution_count": 38,
   "metadata": {},
   "outputs": [
    {
     "name": "stdout",
     "output_type": "stream",
     "text": [
      "Quantidade de Valores 100\n",
      "Valor a ser procurado 62751174\n",
      "Quantidade de Valores 1000\n",
      "Valor a ser procurado 46294147\n",
      "Quantidade de Valores 10000\n",
      "Valor a ser procurado 6726708\n",
      "Quantidade de Valores 100000\n",
      "Valor a ser procurado 71093052\n",
      "Quantidade de Valores 1000000\n",
      "Valor a ser procurado 99019455\n"
     ]
    }
   ],
   "source": [
    "interation = []\n",
    "time_for_execution = []\n",
    "value = 100\n",
    "for a in range(5):\n",
    "    print(\"Quantidade de Valores\",value)\n",
    "    random_numbers = random.sample(range(100000000), value)\n",
    "    random_numbers.sort()\n",
    "    start = time.time()\n",
    "    random_number = random.randint(1,100000000)\n",
    "    c= binary_search(random_numbers,random_number)\n",
    "    end = time.time()\n",
    "    print(\"Valor a ser procurado\", random_number)\n",
    "    time_execution = end - start\n",
    "    interation.append(value)\n",
    "    time_for_execution.append(time_execution)\n",
    "    value = value*10"
   ]
  },
  {
   "cell_type": "markdown",
   "metadata": {},
   "source": [
    "## Grafic for time vs amound of elements in array"
   ]
  },
  {
   "cell_type": "code",
   "execution_count": 39,
   "metadata": {
    "scrolled": true
   },
   "outputs": [
    {
     "data": {
      "image/png": "[encoded data removed]",
      "text/plain": [
       "<Figure size 432x288 with 1 Axes>"
      ]
     },
     "metadata": {},
     "output_type": "display_data"
    },
    {
     "name": "stdout",
     "output_type": "stream",
     "text": [
      "[1.8596649169921875e-05, 1.430511474609375e-05, 2.5510787963867188e-05, 3.170967102050781e-05, 4.506111145019531e-05]\n",
      "[100, 1000, 10000, 100000, 1000000]\n"
     ]
    }
   ],
   "source": [
    "import matplotlib.pyplot as plt\n",
    "plt.xlabel(\"Values\")\n",
    "plt.ylabel(\"Time\")\n",
    "plt.plot(interation,time_for_execution)\n",
    "plt.show()\n",
    "print(time_for_execution)\n",
    "print(interation)"
   ]
  },
  {
   "cell_type": "code",
   "execution_count": 41,
   "metadata": {},
   "outputs": [
    {
     "ename": "SyntaxError",
     "evalue": "invalid syntax (<ipython-input-41-fe083adab825>, line 22)",
     "output_type": "error",
     "traceback": [
      "\u001b[0;36m  File \u001b[0;32m\"<ipython-input-41-fe083adab825>\"\u001b[0;36m, line \u001b[0;32m22\u001b[0m\n\u001b[0;31m    df = pd.DataFrame([algorith,execution,amound,values_find,columns={'Algoritmo','Tempo de Execução' ,'Quantidade de elementos' ,'Valor de Procura'}])\u001b[0m\n\u001b[0m                                                                    ^\u001b[0m\n\u001b[0;31mSyntaxError\u001b[0m\u001b[0;31m:\u001b[0m invalid syntax\n"
     ]
    }
   ],
   "source": [
    "                                                                                                                                                                                                                                                                                                                                                                                                                                                                                                                                                                                                                                                                                                                                                                                        import pandas as pd\n",
    "import random\n",
    "import pandas as pd\n",
    "algorith =[]\n",
    "execution =[]\n",
    "amound =[]\n",
    "values_find =[]\n",
    "for a in range(2):\n",
    "    amound_of_numbers = random.randint(1,100000)\n",
    "    random_numbers_array = random.sample(range(100000), amound_of_numbers)\n",
    "    random_number_to_find = random.randint(1, amound_of_numbers)\n",
    "    start = time.time()\n",
    "    c = binary_search(random_numbers_array,random_number_to_find)\n",
    "    end = time.time()\n",
    "    execution_time = end - start\n",
    "    \n",
    "    algorith.append('Busca Binaria')\n",
    "    execution.append(execution_time)\n",
    "    amound.append(amound_of_numbers)\n",
    "    values_find.append(random_number_to_find)\n",
    "print(algorith)\n",
    "df = pd.DataFrame(algorith,execution,amound,values_find,columns={'Algoritmo','Tempo de Execução' ,'Quantidade de elementos' ,'Valor de Procura'})\n",
    "df.head()"
   ]
  },
  {
   "cell_type": "code",
   "execution_count": null,
   "metadata": {},
   "outputs": [],
   "source": []
  },
  {
   "cell_type": "code",
   "execution_count": null,
   "metadata": {},
   "outputs": [],
   "source": []
  }
 ],
 "metadata": {
  "kernelspec": {
   "display_name": "Python 3",
   "language": "python",
   "name": "python3"
  },
  "language_info": {
   "codemirror_mode": {
    "name": "ipython",
    "version": 3
   },
   "file_extension": ".py",
   "mimetype": "text/x-python",
   "name": "python",
   "nbconvert_exporter": "python",
   "pygments_lexer": "ipython3",
   "version": "3.5.2"
  }
 },
 "nbformat": 4,
 "nbformat_minor": 2
}
