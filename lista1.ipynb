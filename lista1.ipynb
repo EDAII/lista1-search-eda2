{
 "cells": [
  {
   "cell_type": "code",
   "execution_count": 19,
   "metadata": {},
   "outputs": [],
   "source": [
    "import time, random"
   ]
  },
  {
   "cell_type": "markdown",
   "metadata": {},
   "source": [
    "## Binary Search"
   ]
  },
  {
   "cell_type": "code",
   "execution_count": 20,
   "metadata": {},
   "outputs": [],
   "source": [
    "def binary_search(number_list, number):\n",
    "    min_value = 0\n",
    "    max_value = len(number_list) \n",
    "\n",
    "    while min_value <= max_value:\n",
    "        i = (min_value + max_value) // 2\n",
    "        middle = int(i)\n",
    "        if number_list[middle] == number:\n",
    "            return True\n",
    "        elif number_list[middle] > number:\n",
    "            max_value = middle - 1\n",
    "        elif number_list[middle] < number:\n",
    "            min_value = middle + 1\n",
    "        else:\n",
    "            return False\n"
   ]
  },
  {
   "cell_type": "markdown",
   "metadata": {},
   "source": [
    "## Sequential Search"
   ]
  },
  {
   "cell_type": "code",
   "execution_count": 21,
   "metadata": {},
   "outputs": [],
   "source": [
    "def sequential_search_with_sentinel(number_list, key):\n",
    "    number_list.append(key)\n",
    "    index = 0\n",
    "\n",
    "    while number_list[index] != key:\n",
    "        index += 1\n",
    "    number_list.pop()\n",
    "\n",
    "    if index == len(number_list)-1:\n",
    "        return -1 \n",
    "\n",
    "    return index\n",
    "    "
   ]
  },
  {
   "cell_type": "markdown",
   "metadata": {},
   "source": [
    "## Interpolation Search"
   ]
  },
  {
   "cell_type": "code",
   "execution_count": 22,
   "metadata": {},
   "outputs": [],
   "source": [
    "def interpolation_search(number_list, key, size):\n",
    "    min_value = 0\n",
    "    max_value = size - 1\n",
    "    \n",
    "    while min_value <= max_value:\n",
    "        middle = min_value + (max_value - min_value) * (key - number_list[min_value]) // (number_list[max_value]-number_list[min_value])\n",
    "        if number_list[middle] == key:\n",
    "            return True\n",
    "        elif number_list[middle] > number:\n",
    "            max_value = middle - 1\n",
    "        elif number_list[middle] < number:\n",
    "            min_value = middle + 1\n",
    "        else:\n",
    "            return False"
   ]
  },
  {
   "cell_type": "markdown",
   "metadata": {},
   "source": [
    "## Create values amound of values and get time for execute the algorithm"
   ]
  },
  {
   "cell_type": "code",
   "execution_count": 23,
   "metadata": {},
   "outputs": [
    {
     "name": "stdout",
     "output_type": "stream",
     "text": [
      "Quantidade de Valores 100\n",
      "Valor a ser procurado 54279977\n",
      "Quantidade de Valores 1000\n",
      "Valor a ser procurado 59911290\n",
      "Quantidade de Valores 10000\n",
      "Valor a ser procurado 82137815\n",
      "Quantidade de Valores 100000\n",
      "Valor a ser procurado 53319869\n",
      "Quantidade de Valores 1000000\n",
      "Valor a ser procurado 70345510\n"
     ]
    }
   ],
   "source": [
    "interation = []\n",
    "time_for_execution = []\n",
    "value = 100\n",
    "for a in range(5):\n",
    "    print(\"Quantidade de Valores\",value)\n",
    "    random_numbers = random.sample(range(100000000), value)\n",
    "    random_numbers.sort()\n",
    "    start = time.time()\n",
    "    random_number = random.randint(1,100000000)\n",
    "    print(\"Valor a ser procurado\", random_number)\n",
    "    c= binary_search(random_numbers,random_number)\n",
    "    end = time.time()\n",
    "    time_execution = end - start\n",
    "    interation.append(value)\n",
    "    time_for_execution.append(time_execution)\n",
    "    value = value*10"
   ]
  },
  {
   "cell_type": "markdown",
   "metadata": {},
   "source": [
    "## Grafic for time vs amound of elements in array"
   ]
  },
  {
   "cell_type": "code",
   "execution_count": 24,
   "metadata": {
    "scrolled": true
   },
   "outputs": [
    {
     "data": {
      "image/png": "[encoded data removed]",
      "text/plain": [
       "<Figure size 432x288 with 1 Axes>"
      ]
     },
     "metadata": {},
     "output_type": "display_data"
    },
    {
     "name": "stdout",
     "output_type": "stream",
     "text": [
      "[0.00011777877807617188, 6.318092346191406e-05, 0.00017189979553222656, 8.20159912109375e-05, 0.00013399124145507812]\n",
      "[100, 1000, 10000, 100000, 1000000]\n"
     ]
    }
   ],
   "source": [
    "import matplotlib.pyplot as plt\n",
    "plt.xlabel(\"Values\")\n",
    "plt.ylabel(\"Time\")\n",
    "plt.plot(interation,time_for_execution)\n",
    "plt.show()\n",
    "print(time_for_execution)\n",
    "print(interation)"
   ]
  },
  {
   "cell_type": "code",
   "execution_count": null,
   "metadata": {},
   "outputs": [],
   "source": []
  }
 ],
 "metadata": {
  "kernelspec": {
   "display_name": "Python 3",
   "language": "python",
   "name": "python3"
  },
  "language_info": {
   "codemirror_mode": {
    "name": "ipython",
    "version": 3
   },
   "file_extension": ".py",
   "mimetype": "text/x-python",
   "name": "python",
   "nbconvert_exporter": "python",
   "pygments_lexer": "ipython3",
   "version": "3.6.5"
  }
 },
 "nbformat": 4,
 "nbformat_minor": 2
}
